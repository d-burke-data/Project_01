{
 "cells": [
  {
   "cell_type": "code",
   "execution_count": 5,
   "metadata": {},
   "outputs": [],
   "source": [
    "# Collecting data on Median Consumer Price Index in the United States\n",
    "\n",
    "# import packages\n",
    "from fredapi import Fred\n",
    "import pandas as pd\n",
    "from config1 import api_key\n",
    "from pprint import pprint\n",
    "import os\n",
    "import csv\n",
    "\n",
    "# Initialize Fred api with api_key\n",
    "fred = Fred(api_key=api_key)\n",
    "\n",
    "#Initializing the file output\n",
    "file_to_output = os.path.join(\"Median_CPI.csv\") "
   ]
  },
  {
   "cell_type": "code",
   "execution_count": 6,
   "metadata": {},
   "outputs": [],
   "source": [
    "# Assigning the series id for Median CPI Data.\n",
    "series_id = \"MEDCPIM158SFRBCLE\"\n",
    "\n",
    "    # Collecting the series data from FRED\n",
    "    # From 2004 to present\n",
    "    # URL is below for reference\n",
    "    # https://api.stlouisfed.org/fred/series/observations?series_id={series_id}&api_key={api_key}&file_type=json\n",
    "median_cpi = fred.get_series(series_id, observation_start=\"2004-01-01\")\n",
    "\n",
    "# Converted the data to a DataFrame\n",
    "median_cpi_df = pd.DataFrame(median_cpi, columns=['Median_CPI'])\n",
    "\n",
    "# Indexed the date\n",
    "median_cpi_df.index.name = \"Date\"\n",
    "\n"
   ]
  },
  {
   "cell_type": "code",
   "execution_count": 7,
   "metadata": {},
   "outputs": [
    {
     "name": "stdout",
     "output_type": "stream",
     "text": [
      "            Median_CPI\n",
      "Date                  \n",
      "2004-01-01    2.220075\n",
      "2004-02-01    2.912655\n",
      "2004-03-01    2.734402\n",
      "2004-04-01    2.538382\n",
      "2004-05-01    3.217495\n",
      "...                ...\n",
      "2024-05-01    3.016469\n",
      "2024-06-01    2.364665\n",
      "2024-07-01    3.804998\n",
      "2024-08-01    3.180397\n",
      "2024-09-01    4.146461\n",
      "\n",
      "[249 rows x 1 columns]\n"
     ]
    }
   ],
   "source": [
    "# Print the DataFrame\n",
    "pprint(median_cpi_df)\n",
    "\n",
    "# Write to CSV file\n",
    "median_cpi_df.to_csv(\"Median_CPI.csv\")"
   ]
  },
  {
   "cell_type": "code",
   "execution_count": null,
   "metadata": {},
   "outputs": [],
   "source": []
  }
 ],
 "metadata": {
  "kernelspec": {
   "display_name": "base",
   "language": "python",
   "name": "python3"
  },
  "language_info": {
   "codemirror_mode": {
    "name": "ipython",
    "version": 3
   },
   "file_extension": ".py",
   "mimetype": "text/x-python",
   "name": "python",
   "nbconvert_exporter": "python",
   "pygments_lexer": "ipython3",
   "version": "3.12.2"
  }
 },
 "nbformat": 4,
 "nbformat_minor": 2
}
