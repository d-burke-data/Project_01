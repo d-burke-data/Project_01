{
 "cells": [
  {
   "cell_type": "code",
   "execution_count": 6,
   "metadata": {},
   "outputs": [],
   "source": [
    "# Collecting historical data on 30-Year Fixed Rate Mortgages in the United States\n",
    "\n",
    "# import packages\n",
    "from fredapi import Fred\n",
    "import pandas as pd\n",
    "from config1 import api_key\n",
    "from pprint import pprint\n",
    "import os\n",
    "import csv\n",
    "\n",
    "# Initialize Fred api with api_key\n",
    "fred = Fred(api_key=api_key)\n",
    "\n",
    "#Initializing the file output\n",
    "file_to_output = os.path.join(\"30_Year_Mortgage.csv\") "
   ]
  },
  {
   "cell_type": "code",
   "execution_count": null,
   "metadata": {},
   "outputs": [],
   "source": [
    "# Assigning the series id for the 30 Year Mortgage Rate Data.\n",
    "series_id = \"MORTGAGE30US\"\n",
    "\n",
    "    # Collecting the series data from FRED\n",
    "    # From 2004 to present\n",
    "    # URL is below for reference\n",
    "    # https://api.stlouisfed.org/fred/series/observations?series_id={series_id}&api_key={api_key}&file_type=json\n",
    "mortgage30 = fred.get_series(series_id, observation_start=\"2004-01-01\")\n",
    "\n",
    "# Converted the data to a DataFrame\n",
    "mortgage30_df = pd.DataFrame(mortgage30, columns=['30 Year Mortgage Rate'])\n",
    "\n",
    "# Indexed the date\n",
    "mortgage30_df.index.name = \"Date\"\n",
    "\n"
   ]
  },
  {
   "cell_type": "code",
   "execution_count": 8,
   "metadata": {},
   "outputs": [
    {
     "name": "stdout",
     "output_type": "stream",
     "text": [
      "            30 Year Mortgage Rate\n",
      "Date                             \n",
      "2004-01-08                   5.87\n",
      "2004-01-15                   5.66\n",
      "2004-01-22                   5.64\n",
      "2004-01-29                   5.68\n",
      "2004-02-05                   5.72\n",
      "...                           ...\n",
      "2024-10-10                   6.32\n",
      "2024-10-17                   6.44\n",
      "2024-10-24                   6.54\n",
      "2024-10-31                   6.72\n",
      "2024-11-07                   6.79\n",
      "\n",
      "[1088 rows x 1 columns]\n"
     ]
    }
   ],
   "source": [
    "# Print the DataFrame\n",
    "pprint(mortgage30_df)\n",
    "\n",
    "# Write to CSV file\n",
    "mortgage30_df.to_csv(\"30_Year_Mortgage.csv\")"
   ]
  },
  {
   "cell_type": "code",
   "execution_count": null,
   "metadata": {},
   "outputs": [],
   "source": []
  }
 ],
 "metadata": {
  "kernelspec": {
   "display_name": "base",
   "language": "python",
   "name": "python3"
  },
  "language_info": {
   "codemirror_mode": {
    "name": "ipython",
    "version": 3
   },
   "file_extension": ".py",
   "mimetype": "text/x-python",
   "name": "python",
   "nbconvert_exporter": "python",
   "pygments_lexer": "ipython3",
   "version": "3.12.2"
  }
 },
 "nbformat": 4,
 "nbformat_minor": 2
}
