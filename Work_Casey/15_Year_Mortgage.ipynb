{
 "cells": [
  {
   "cell_type": "code",
   "execution_count": 4,
   "metadata": {},
   "outputs": [],
   "source": [
    "# Collecting historical data on 15-Year Fixed Rate Mortgages in the United States\n",
    "\n",
    "# import packages\n",
    "from fredapi import Fred\n",
    "import pandas as pd\n",
    "from config1 import api_key\n",
    "from pprint import pprint\n",
    "import os\n",
    "import csv\n",
    "\n",
    "# Initialize Fred api with api_key\n",
    "fred = Fred(api_key=api_key)\n",
    "\n",
    "#Initializing the file output\n",
    "file_to_output = os.path.join(\"15_Year_Mortgage.csv\") "
   ]
  },
  {
   "cell_type": "code",
   "execution_count": null,
   "metadata": {},
   "outputs": [],
   "source": [
    "# Assigning the series id for the 15 year mortgage rate Data.\n",
    "series_id = \"MORTGAGE15US\"\n",
    "\n",
    "    # Collecting the series data from FRED\n",
    "    # From 2004 to present\n",
    "    # URL is below for reference\n",
    "    # https://api.stlouisfed.org/fred/series/observations?series_id={series_id}&api_key={api_key}&file_type=json\n",
    "mortgage15 = fred.get_series(series_id, observation_start=\"2004-01-01\")\n",
    "\n",
    "# Converted the data to a DataFrame\n",
    "mortgage15_df = pd.DataFrame(mortgage15, columns=['30 Year Mortgage Rate'])\n",
    "\n",
    "# Indexed the date\n",
    "mortgage15_df.index.name = \"Date\"\n",
    "\n"
   ]
  },
  {
   "cell_type": "code",
   "execution_count": 6,
   "metadata": {},
   "outputs": [
    {
     "name": "stdout",
     "output_type": "stream",
     "text": [
      "            30 Year Mortgage Rate\n",
      "Date                             \n",
      "2004-01-08                   5.17\n",
      "2004-01-15                   4.97\n",
      "2004-01-22                   4.95\n",
      "2004-01-29                   4.97\n",
      "2004-02-05                   5.03\n",
      "...                           ...\n",
      "2024-10-10                   5.41\n",
      "2024-10-17                   5.63\n",
      "2024-10-24                   5.71\n",
      "2024-10-31                   5.99\n",
      "2024-11-07                   6.00\n",
      "\n",
      "[1088 rows x 1 columns]\n"
     ]
    }
   ],
   "source": [
    "# Print the DataFrame\n",
    "pprint(mortgage15_df)\n",
    "\n",
    "# Write to CSV file\n",
    "mortgage15_df.to_csv(\"15_Year_Mortgage.csv\")"
   ]
  },
  {
   "cell_type": "code",
   "execution_count": null,
   "metadata": {},
   "outputs": [],
   "source": []
  }
 ],
 "metadata": {
  "kernelspec": {
   "display_name": "base",
   "language": "python",
   "name": "python3"
  },
  "language_info": {
   "codemirror_mode": {
    "name": "ipython",
    "version": 3
   },
   "file_extension": ".py",
   "mimetype": "text/x-python",
   "name": "python",
   "nbconvert_exporter": "python",
   "pygments_lexer": "ipython3",
   "version": "3.12.2"
  }
 },
 "nbformat": 4,
 "nbformat_minor": 2
}
