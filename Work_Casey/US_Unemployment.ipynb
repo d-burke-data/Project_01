{
 "cells": [
  {
   "cell_type": "code",
   "execution_count": 1,
   "metadata": {},
   "outputs": [],
   "source": [
    "# Collecting unemployment data in the United States. Refer to the Unemployment notebook for state specific data.\n",
    "\n",
    "# import packages\n",
    "from fredapi import Fred\n",
    "import pandas as pd\n",
    "from config1 import api_key\n",
    "from pprint import pprint\n",
    "import os\n",
    "import csv\n",
    "\n",
    "# Initialize Fred api with api_key\n",
    "fred = Fred(api_key=api_key)\n",
    "\n",
    "#Initializing the file output\n",
    "file_to_output = os.path.join(\"US_Unemployment.csv\") "
   ]
  },
  {
   "cell_type": "code",
   "execution_count": 2,
   "metadata": {},
   "outputs": [],
   "source": [
    "# Assigning the series id for US unemployment Data.\n",
    "series_id = \"UNRATE\"\n",
    "\n",
    "    # Collecting the series data from FRED\n",
    "    # From 2004 to present\n",
    "    # URL is below for reference\n",
    "    # https://api.stlouisfed.org/fred/series/observations?series_id={series_id}&api_key={api_key}&file_type=json\n",
    "us_unemployment = fred.get_series(series_id, observation_start=\"2004-01-01\")\n",
    "\n",
    "# Converted the data to a DataFrame\n",
    "us_unemployment_df = pd.DataFrame(us_unemployment, columns=['Unemployment Rate'])\n",
    "\n",
    "# Indexed the date\n",
    "us_unemployment_df.index.name = \"Date\"\n"
   ]
  },
  {
   "cell_type": "code",
   "execution_count": 3,
   "metadata": {},
   "outputs": [
    {
     "name": "stdout",
     "output_type": "stream",
     "text": [
      "            Unemployment Rate\n",
      "Date                         \n",
      "2004-01-01                5.7\n",
      "2004-02-01                5.6\n",
      "2004-03-01                5.8\n",
      "2004-04-01                5.6\n",
      "2004-05-01                5.6\n",
      "...                       ...\n",
      "2024-06-01                4.1\n",
      "2024-07-01                4.3\n",
      "2024-08-01                4.2\n",
      "2024-09-01                4.1\n",
      "2024-10-01                4.1\n",
      "\n",
      "[250 rows x 1 columns]\n"
     ]
    }
   ],
   "source": [
    "# Print the DataFrame\n",
    "pprint(us_unemployment_df)\n",
    "\n",
    "# Write to CSV file\n",
    "us_unemployment_df.to_csv(\"US_Unemployment.csv\")"
   ]
  }
 ],
 "metadata": {
  "kernelspec": {
   "display_name": "base",
   "language": "python",
   "name": "python3"
  },
  "language_info": {
   "codemirror_mode": {
    "name": "ipython",
    "version": 3
   },
   "file_extension": ".py",
   "mimetype": "text/x-python",
   "name": "python",
   "nbconvert_exporter": "python",
   "pygments_lexer": "ipython3",
   "version": "3.12.2"
  }
 },
 "nbformat": 4,
 "nbformat_minor": 2
}
